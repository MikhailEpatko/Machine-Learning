{
 "cells": [
  {
   "cell_type": "code",
   "execution_count": 3,
   "metadata": {},
   "outputs": [],
   "source": [
    "import pandas as pd\n",
    "import numpy as np\n",
    "from sklearn.metrics import accuracy_score\n",
    "from sklearn.metrics import confusion_matrix\n",
    "from sklearn.metrics import classification_report\n",
    "from sklearn.model_selection import train_test_split\n",
    "%matplotlib inline\n",
    "from matplotlib import pyplot as plt\n",
    "import seaborn as sns\n",
    "from sklearn.linear_model import LinearRegression, Lasso, Ridge, LogisticRegression, SGDClassifier\n",
    "from sklearn.linear_model import LassoCV, RidgeCV\n",
    "from sklearn.ensemble import RandomForestRegressor\n",
    "from sklearn.preprocessing import StandardScaler\n",
    "from sklearn.metrics import mean_squared_error, accuracy_score\n",
    "from scipy.sparse import csr_matrix"
   ]
  },
  {
   "cell_type": "code",
   "execution_count": 4,
   "metadata": {},
   "outputs": [],
   "source": [
    "dtypes = {'nt_fp': str, 'event_date': str, 's_datefrom': str,\n",
    "          's_price': float, 's_currency': str, 's_country': str, \n",
    "          'day_of_week': str, 'a_month': str, 'hour_of_day': int,\n",
    "          's_depcity, ': str, 's_adults': int, 's_children': int,\n",
    "          'ua_browser': str, 'ua_device_type': str, 'ua_platform': str,\n",
    "          'ip_lat': int, 'ip_long': int}\n",
    "\n",
    "parse_dates = ['event_date', 's_datefrom']\n",
    "\n",
    "data_df = pd.read_csv('~/Desktop/events-by-5-month.csv', index_col=False,  dtype=dtypes, parse_dates=parse_dates)"
   ]
  },
  {
   "cell_type": "code",
   "execution_count": 5,
   "metadata": {},
   "outputs": [],
   "source": [
    "k = {'BYN': 31., 'UAH': 2.4, 'USD': 62., 'RUB': 1., 'EUR': 72., 'KZT': 0.19}\n"
   ]
  },
  {
   "cell_type": "code",
   "execution_count": 3,
   "metadata": {},
   "outputs": [],
   "source": [
    "# вычисляем \"глубину\" поиска\n",
    "data_df['deep'] = ((data_df['s_datefrom'] - data_df['event_date'])).dt.days\n",
    "# вычисляем часть дня\n",
    "data_df['part_of_day'] = data_df['hour_of_day']//3\n",
    "# отделяем цель\n",
    "y =  data_df['s_price'].values\n",
    "# отделяем признаки\n",
    "data_features = data_df.drop(columns=['s_price', 'event_date', 'nt_fp', 's_datefrom', 'hour_of_day'])\n",
    "# заменяем категориальные признаки количественными (0 или 1)\n",
    "data_dummies = pd.get_dummies(data_features)\n",
    "C = data_dummies.values\n",
    "# создаём разреженную матрицу (без нулей). \n",
    "# На практике так не делают, т.к. неразреженная матрица 'а' может не поместиться в памяти\n",
    "X = csr_matrix(C)\n",
    "# разделяем признаки и цели на учебные и тестовые\n",
    "X_train, X_test, y_train, y_test = train_test_split(X, y, random_state=17)"
   ]
  },
  {
   "cell_type": "code",
   "execution_count": 4,
   "metadata": {},
   "outputs": [
    {
     "data": {
      "text/plain": [
       "22.605000226050002"
      ]
     },
     "execution_count": 4,
     "metadata": {},
     "output_type": "execute_result"
    }
   ],
   "source": [
    "10**6/X_train.shape[0]"
   ]
  },
  {
   "cell_type": "code",
   "execution_count": 5,
   "metadata": {},
   "outputs": [],
   "source": [
    "# обучаем логистическую регрессию\n",
    "logit = LogisticRegression(solver='lbfgs', random_state=17, n_jobs=-1)\n",
    "# обучаем стохастический градиентный спуск\n",
    "# max_iter - максимальное число проходов по всей выборке. Определяется, как 10**6, делённое на размерность выборки\n",
    "sgd_logit = SGDClassifier(max_iter=22,random_state=17, n_jobs=-1)"
   ]
  },
  {
   "cell_type": "code",
   "execution_count": null,
   "metadata": {},
   "outputs": [],
   "source": [
    "%%time\n",
    "logit.fit(X_train, y_train)"
   ]
  },
  {
   "cell_type": "code",
   "execution_count": null,
   "metadata": {},
   "outputs": [],
   "source": [
    "%%time\n",
    "sgd_logit.fit(X_train, y_train)"
   ]
  },
  {
   "cell_type": "code",
   "execution_count": null,
   "metadata": {},
   "outputs": [],
   "source": [
    "# смотрим аккуратность логистической регрессии\n",
    "accuracy_score(y_test, logit.predict(X_test))"
   ]
  },
  {
   "cell_type": "code",
   "execution_count": null,
   "metadata": {},
   "outputs": [],
   "source": [
    "# смотрим аккуратность стохастического градиентного спуска\n",
    "accuracy_score(y_test, sgd_logit.predict(X_test))"
   ]
  },
  {
   "cell_type": "code",
   "execution_count": null,
   "metadata": {},
   "outputs": [],
   "source": []
  }
 ],
 "metadata": {
  "kernelspec": {
   "display_name": "Python 3",
   "language": "python",
   "name": "python3"
  },
  "language_info": {
   "codemirror_mode": {
    "name": "ipython",
    "version": 3
   },
   "file_extension": ".py",
   "mimetype": "text/x-python",
   "name": "python",
   "nbconvert_exporter": "python",
   "pygments_lexer": "ipython3",
   "version": "3.6.4"
  }
 },
 "nbformat": 4,
 "nbformat_minor": 2
}
